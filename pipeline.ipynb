{
 "cells": [
  {
   "cell_type": "markdown",
   "id": "90ef4fd7-61d5-499c-9901-d40977e05b7d",
   "metadata": {},
   "source": [
    "# imports"
   ]
  },
  {
   "cell_type": "code",
   "execution_count": 1,
   "id": "9fadc3d0",
   "metadata": {},
   "outputs": [],
   "source": [
    "import requests\n",
    "import pandas as pd"
   ]
  },
  {
   "cell_type": "markdown",
   "id": "2a884e31",
   "metadata": {},
   "source": [
    "# acquire data"
   ]
  },
  {
   "cell_type": "code",
   "execution_count": 2,
   "id": "ade74e75",
   "metadata": {},
   "outputs": [],
   "source": [
    "api_url = \"https://opendata.maryland.gov/api/id/crti-ybyp.json?$select=*&$order=`:id`+ASC&$limit=3000&$offset=0 \"\n",
    "response = requests.get(api_url)\n",
    "data = response.json()"
   ]
  },
  {
   "cell_type": "markdown",
   "id": "d8cfe4bd",
   "metadata": {},
   "source": [
    "# clean data"
   ]
  },
  {
   "cell_type": "code",
   "execution_count": 7,
   "id": "472a7ee3-c1a3-47d8-a889-9094ff43a007",
   "metadata": {},
   "outputs": [],
   "source": [
    "df = pd.DataFrame(data)\n",
    "backup = pd.DataFrame(data)"
   ]
  },
  {
   "cell_type": "markdown",
   "id": "64305f4d",
   "metadata": {},
   "source": [
    "# analyze data"
   ]
  },
  {
   "cell_type": "code",
   "execution_count": null,
   "id": "0c0e9d9f-2fff-4e0c-be32-5e9258145311",
   "metadata": {},
   "outputs": [],
   "source": [
    "#df.dtypes\n",
    "\n",
    "df['recieved_date'] = pd.to_datetime(df['recieved_date'])\n",
    "df['incident_date'] = pd.to_datetime(df['incident_date'])\n",
    "df['incident_closed_date'] = pd.to_datetime(df['incident_closed_date'])"
   ]
  },
  {
   "cell_type": "code",
   "execution_count": 10,
   "id": "78003b2a-e898-4588-8dc2-3ffe6913518a",
   "metadata": {},
   "outputs": [
    {
     "data": {
      "text/plain": [
       "county\n",
       "Baltimore City        101\n",
       "Anne Arundel           85\n",
       "Prince George's        83\n",
       "Frederick              62\n",
       "Baltimore              57\n",
       "Montgomery             35\n",
       "Cecil                  25\n",
       "Dorchester             17\n",
       "Harford                17\n",
       "Howard                 15\n",
       "Allegany               15\n",
       "Washington             14\n",
       "Charles                12\n",
       "Carroll                 9\n",
       "Wicomico                8\n",
       "Not Yet Determined      7\n",
       "Worcester               7\n",
       "St. Mary's              6\n",
       "Garrett                 5\n",
       "Caroline                3\n",
       "Queen Anne's            2\n",
       "Somerset                2\n",
       "Talbot                  1\n",
       "Kent                    1\n",
       "Statewide               1\n",
       "Name: count, dtype: int64"
      ]
     },
     "execution_count": 10,
     "metadata": {},
     "output_type": "execute_result"
    }
   ],
   "source": [
    "year_ago_date = pd.Timestamp('2023-03-09')\n",
    "\n",
    "last_year_df = df[df[\"recieved_date\"] > year_ago_date].copy()\n",
    "\n",
    "last_year_df[\"county\"].value_counts()"
   ]
  },
  {
   "cell_type": "code",
   "execution_count": 12,
   "id": "fbe83498-9ac1-4da5-9586-f3ae36e206cd",
   "metadata": {},
   "outputs": [],
   "source": [
    "last_year_df[\"complaint_type\"] = last_year_df[\"complaint_type\"].str.split(', ')"
   ]
  },
  {
   "cell_type": "code",
   "execution_count": 14,
   "id": "788006dd-97ea-4671-bc61-a643008600bd",
   "metadata": {},
   "outputs": [
    {
     "data": {
      "text/html": [
       "<div>\n",
       "<style scoped>\n",
       "    .dataframe tbody tr th:only-of-type {\n",
       "        vertical-align: middle;\n",
       "    }\n",
       "\n",
       "    .dataframe tbody tr th {\n",
       "        vertical-align: top;\n",
       "    }\n",
       "\n",
       "    .dataframe thead th {\n",
       "        text-align: right;\n",
       "    }\n",
       "</style>\n",
       "<table border=\"1\" class=\"dataframe\">\n",
       "  <thead>\n",
       "    <tr style=\"text-align: right;\">\n",
       "      <th></th>\n",
       "      <th>sno</th>\n",
       "      <th>complaint</th>\n",
       "      <th>complaint_description</th>\n",
       "      <th>complaint_type</th>\n",
       "      <th>recieved_date</th>\n",
       "      <th>incident_date</th>\n",
       "      <th>county</th>\n",
       "      <th>incident_closed_date</th>\n",
       "      <th>incident_status_desc</th>\n",
       "      <th>incident_zip</th>\n",
       "    </tr>\n",
       "  </thead>\n",
       "  <tbody>\n",
       "    <tr>\n",
       "      <th>0</th>\n",
       "      <td>1</td>\n",
       "      <td>232264</td>\n",
       "      <td>concern of loud noise in the Cheverly area</td>\n",
       "      <td>Other</td>\n",
       "      <td>2024-03-06</td>\n",
       "      <td>2024-03-06</td>\n",
       "      <td>Prince George's</td>\n",
       "      <td>2024-03-08</td>\n",
       "      <td>Incident Closed-Managed</td>\n",
       "      <td>NaN</td>\n",
       "    </tr>\n",
       "    <tr>\n",
       "      <th>1</th>\n",
       "      <td>2</td>\n",
       "      <td>232263</td>\n",
       "      <td>concern of loud noise in the Cheverly area</td>\n",
       "      <td>Other</td>\n",
       "      <td>2024-03-06</td>\n",
       "      <td>2024-03-06</td>\n",
       "      <td>Prince George's</td>\n",
       "      <td>2024-03-08</td>\n",
       "      <td>Incident Closed-Managed</td>\n",
       "      <td>NaN</td>\n",
       "    </tr>\n",
       "    <tr>\n",
       "      <th>2</th>\n",
       "      <td>3</td>\n",
       "      <td>232262</td>\n",
       "      <td>concern of loud noise in the Cheverly area</td>\n",
       "      <td>Other</td>\n",
       "      <td>2024-03-06</td>\n",
       "      <td>2024-03-06</td>\n",
       "      <td>Prince George's</td>\n",
       "      <td>2024-03-08</td>\n",
       "      <td>Incident Closed-Managed</td>\n",
       "      <td>NaN</td>\n",
       "    </tr>\n",
       "    <tr>\n",
       "      <th>3</th>\n",
       "      <td>4</td>\n",
       "      <td>232261</td>\n",
       "      <td>concern of loud noise in the Cheverly area</td>\n",
       "      <td>Other</td>\n",
       "      <td>2024-03-06</td>\n",
       "      <td>2024-03-06</td>\n",
       "      <td>Prince George's</td>\n",
       "      <td>2024-03-08</td>\n",
       "      <td>Incident Closed-Managed</td>\n",
       "      <td>NaN</td>\n",
       "    </tr>\n",
       "    <tr>\n",
       "      <th>4</th>\n",
       "      <td>5</td>\n",
       "      <td>232260</td>\n",
       "      <td>concern of loud noise in the Cheverly area</td>\n",
       "      <td>Other</td>\n",
       "      <td>2024-03-06</td>\n",
       "      <td>2024-03-06</td>\n",
       "      <td>Prince George's</td>\n",
       "      <td>2024-03-08</td>\n",
       "      <td>Incident Closed-Managed</td>\n",
       "      <td>NaN</td>\n",
       "    </tr>\n",
       "  </tbody>\n",
       "</table>\n",
       "</div>"
      ],
      "text/plain": [
       "  sno complaint                       complaint_description complaint_type  \\\n",
       "0   1    232264  concern of loud noise in the Cheverly area          Other   \n",
       "1   2    232263  concern of loud noise in the Cheverly area          Other   \n",
       "2   3    232262  concern of loud noise in the Cheverly area          Other   \n",
       "3   4    232261  concern of loud noise in the Cheverly area          Other   \n",
       "4   5    232260  concern of loud noise in the Cheverly area          Other   \n",
       "\n",
       "  recieved_date incident_date           county incident_closed_date  \\\n",
       "0    2024-03-06    2024-03-06  Prince George's           2024-03-08   \n",
       "1    2024-03-06    2024-03-06  Prince George's           2024-03-08   \n",
       "2    2024-03-06    2024-03-06  Prince George's           2024-03-08   \n",
       "3    2024-03-06    2024-03-06  Prince George's           2024-03-08   \n",
       "4    2024-03-06    2024-03-06  Prince George's           2024-03-08   \n",
       "\n",
       "      incident_status_desc incident_zip  \n",
       "0  Incident Closed-Managed          NaN  \n",
       "1  Incident Closed-Managed          NaN  \n",
       "2  Incident Closed-Managed          NaN  \n",
       "3  Incident Closed-Managed          NaN  \n",
       "4  Incident Closed-Managed          NaN  "
      ]
     },
     "execution_count": 14,
     "metadata": {},
     "output_type": "execute_result"
    }
   ],
   "source": [
    "last_year_df[0:5].explode(\"complaint_type\")"
   ]
  },
  {
   "cell_type": "code",
   "execution_count": 15,
   "id": "99f68b54-341e-4710-8b93-82a6dae70c0e",
   "metadata": {},
   "outputs": [],
   "source": [
    "complaints_by_type = last_year_df.explode(\"complaint_type\")"
   ]
  },
  {
   "cell_type": "code",
   "execution_count": 16,
   "id": "65b54df9-e991-4589-b7e8-acf896009531",
   "metadata": {},
   "outputs": [
    {
     "data": {
      "text/plain": [
       "complaint_type\n",
       "Air                                   223\n",
       "Odor                                  186\n",
       "Other                                 126\n",
       "Smoke                                  56\n",
       "Fugitive Dust/Particulate Matter       45\n",
       "Fumes                                  39\n",
       "Open Burning                           30\n",
       "Asbestos Complaint                      3\n",
       "Air Pollutant Release                   2\n",
       "Noise Complaint                         2\n",
       "Non-Tidal Wetlands/Waterway             2\n",
       "Suspected Operation without Permit      1\n",
       "ARA AQCP non-regulated entity           1\n",
       "Name: count, dtype: int64"
      ]
     },
     "execution_count": 16,
     "metadata": {},
     "output_type": "execute_result"
    }
   ],
   "source": [
    "last_year_by_type = complaints_by_type[\"complaint_type\"].value_counts()\n",
    "\n",
    "last_year_by_type"
   ]
  },
  {
   "cell_type": "code",
   "execution_count": 17,
   "id": "c571badd-4a40-4d9e-a6b9-d4fa27d656ce",
   "metadata": {},
   "outputs": [],
   "source": [
    "null_county_rows = last_year_df[last_year_df['county'].isnull()]\n",
    "wrong_county_rows = last_year_df[last_year_df['county'].isin([\"Not Yet Determined\", \"Outside of Maryland\", \"Statewide\"])]\n",
    "\n",
    "# Export each one separately.\n",
    "null_county_rows.to_csv(\"exported_data/null_counties.csv\")\n",
    "wrong_county_rows.to_csv(\"exported_data/wrong_counties.csv\")"
   ]
  },
  {
   "cell_type": "code",
   "execution_count": 18,
   "id": "776e22df-a534-4765-bdae-2b3af385ed2e",
   "metadata": {},
   "outputs": [],
   "source": [
    "last_year_df = last_year_df[last_year_df['county'].isnull() == False]\n",
    "last_year_df = last_year_df[last_year_df['county'].isin([\"Not Yet Determined\", \"Outside of Maryland\", \"Statewide\"]) == False]"
   ]
  },
  {
   "cell_type": "code",
   "execution_count": 19,
   "id": "759b8c10-9c0e-44fe-bbc2-37f2ef732040",
   "metadata": {},
   "outputs": [
    {
     "data": {
      "text/plain": [
       "county\n",
       "Baltimore City     101\n",
       "Anne Arundel        85\n",
       "Prince George's     83\n",
       "Frederick           62\n",
       "Baltimore           57\n",
       "Montgomery          35\n",
       "Cecil               25\n",
       "Harford             17\n",
       "Dorchester          17\n",
       "Howard              15\n",
       "Allegany            15\n",
       "Washington          14\n",
       "Charles             12\n",
       "Carroll              9\n",
       "Wicomico             8\n",
       "Worcester            7\n",
       "St. Mary's           6\n",
       "Garrett              5\n",
       "Caroline             3\n",
       "Queen Anne's         2\n",
       "Somerset             2\n",
       "Talbot               1\n",
       "Kent                 1\n",
       "Name: count, dtype: int64"
      ]
     },
     "execution_count": 19,
     "metadata": {},
     "output_type": "execute_result"
    }
   ],
   "source": [
    "last_year_by_county = last_year_df[\"county\"].value_counts()\n",
    "\n",
    "last_year_by_county"
   ]
  },
  {
   "cell_type": "markdown",
   "id": "4849e5e3",
   "metadata": {},
   "source": [
    "# export data"
   ]
  },
  {
   "cell_type": "code",
   "execution_count": 11,
   "id": "a378c8a5-118d-4a78-b540-be9edb767d63",
   "metadata": {},
   "outputs": [],
   "source": [
    "df.to_csv(\n",
    "    f\"exported_data/all_complaints.csv\",\n",
    "    index=False,\n",
    "    columns=[\n",
    "        \"complaint\",\n",
    "        \"incident_date\",\n",
    "        \"county\",\n",
    "        \"incident_zip\",\n",
    "        \"complaint_type\",\n",
    "        \"complaint_description\",\n",
    "        \"recieved_date\",\n",
    "        \"incident_status_desc\",\n",
    "        \"incident_closed_date\",\n",
    "    ]\n",
    ")"
   ]
  },
  {
   "cell_type": "code",
   "execution_count": 20,
   "id": "d557cbe1-8382-41e9-823e-9b0492d9bf31",
   "metadata": {},
   "outputs": [],
   "source": [
    "last_year_by_type.to_csv(\"exported_data/complaint_typef_frequency.csv\")\n",
    "last_year_by_county.to_csv(\"exported_data/county_frequency.csv\")"
   ]
  },
  {
   "cell_type": "code",
   "execution_count": null,
   "id": "473d89c6-8efb-4fda-ab91-082f196c0e01",
   "metadata": {},
   "outputs": [],
   "source": []
  }
 ],
 "metadata": {
  "kernelspec": {
   "display_name": "Python 3 (ipykernel)",
   "language": "python",
   "name": "python3"
  },
  "language_info": {
   "codemirror_mode": {
    "name": "ipython",
    "version": 3
   },
   "file_extension": ".py",
   "mimetype": "text/x-python",
   "name": "python",
   "nbconvert_exporter": "python",
   "pygments_lexer": "ipython3",
   "version": "3.11.8"
  }
 },
 "nbformat": 4,
 "nbformat_minor": 5
}
